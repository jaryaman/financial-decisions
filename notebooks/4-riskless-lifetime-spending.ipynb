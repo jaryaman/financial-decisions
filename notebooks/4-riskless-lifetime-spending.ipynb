{
 "cells": [
  {
   "cell_type": "markdown",
   "metadata": {},
   "source": [
    "# Riskless lifetime spending\n",
    "\n",
    "Here we figure out how to optimally spend a pot of money over a known time horizon, given access to a risk-free investment giving return $r_{ra}$ and a personal rate of time preference $r_{tp}$.\n",
    "\n",
    "An optimal investment policy has these properties:\n",
    "\n",
    "1. Spending more is better than spending less\n",
    "1. There are decreasing marginal benefits to spending more\n",
    "1. Spending should be as smooth as possible over time\n",
    "1. Spending should react to changes in the value and quality of our investments, after tax and inflation-adjusted\n",
    "1. Spending and investing should depend on our expected, but uncertain, personal longevity."
   ]
  },
  {
   "cell_type": "code",
   "execution_count": 1,
   "metadata": {},
   "outputs": [
    {
     "name": "stderr",
     "output_type": "stream",
     "text": [
      "/tmp/ipykernel_32765/1453797730.py:4: TqdmExperimentalWarning: Using `tqdm.autonotebook.tqdm` in notebook mode. Use `tqdm.tqdm` instead to force console mode (e.g. in jupyter console)\n",
      "  from tqdm.autonotebook import tqdm\n"
     ]
    }
   ],
   "source": [
    "import numpy as np \n",
    "import polars as pl \n",
    "from polars import col \n",
    "from tqdm.autonotebook import tqdm\n",
    "from findec import crra_utility\n",
    "\n",
    "from IPython.display import display"
   ]
  },
  {
   "cell_type": "markdown",
   "metadata": {},
   "source": [
    "Imagine you are 65 years old, and you've just retired with $1M. Assume you know you're going to live for exactly 20 years. How should we spend our money such that we maximize our expected lifetime utility, over our remaining 20 years?"
   ]
  },
  {
   "cell_type": "markdown",
   "metadata": {},
   "source": [
    "The solution is to spend a fraction $c_t$ of wealth $W_t$ which maximizes the sum of all future year's discounted utility."
   ]
  },
  {
   "cell_type": "markdown",
   "metadata": {},
   "source": [
    "I.e. choose a $c_t$ at every year $t$ such that we maximize\n",
    "\n",
    "$$\\sum_{t=1}^T \\frac{U(c_t W_t)}{(1+r_{tp})^t}$$\n",
    "\n",
    "where $W_t = W_{t-1}(1-c_{t-1})(1+r_{ra})$"
   ]
  },
  {
   "cell_type": "markdown",
   "metadata": {},
   "source": [
    "To simulate this, we use dynamic programming.\n",
    "\n",
    "Admission: I got chatGPT o1 to solve this for me. Terrifyingly, it got basically the same results as Table 9.1 of Haghani & White."
   ]
  },
  {
   "cell_type": "code",
   "execution_count": 2,
   "metadata": {},
   "outputs": [],
   "source": [
    "initial_wealth = 1e6\n",
    "GAMMA = 2.0\n",
    "risk_adjusted_returns_per_year = 3e-2\n",
    "future_utility_discount_rate_per_year = 1e-2\n",
    "time_horizon = 20"
   ]
  },
  {
   "cell_type": "code",
   "execution_count": 3,
   "metadata": {},
   "outputs": [],
   "source": [
    "def solve_consumption(\n",
    "    *,\n",
    "    W0: float,\n",
    "    r_ra: float,\n",
    "    r_tp: float,\n",
    "    gamma: float,\n",
    "    T: int,\n",
    "    n_grid: int,\n",
    "    c_grid_size: int,\n",
    "):\n",
    "    # 1. Build wealth grid\n",
    "    W_max = W0 * (1 + r_ra) ** T * 2.0  # factor of 2 is just for some margin\n",
    "    W_grid = np.linspace(1e-3, W_max, n_grid)\n",
    "\n",
    "    # 2. Arrays for value and policy\n",
    "    \n",
    "    # V[t,i] holds the maximum discounted utility achievable from time t onward if your current wealth is W_grid[i]\n",
    "    V = np.zeros((T + 2, n_grid)) \n",
    "\n",
    "    # C[t,i] holds the optimal consumption fraction that achieves that maximum\n",
    "    C = np.zeros((T + 2, n_grid))\n",
    "\n",
    "    # 3. Terminal condition: V[T+1] = 0\n",
    "    # Already zero by default. No bequest.\n",
    "\n",
    "    # 4. Precompute discount factors\n",
    "    discount_factors = [(1 + r_tp) ** t for t in range(T + 2)]\n",
    "\n",
    "    # 5. Discretize c in [0, 1] but skip exact zero\n",
    "    c_candidates = np.linspace(0, 1, c_grid_size)\n",
    "\n",
    "    # 6. Backwards induction: starting at the last decision point, working backwards\n",
    "    for t in tqdm(reversed(range(1, T + 1)), total=T):\n",
    "        df = discount_factors[t]\n",
    "        for i, W_now in enumerate(W_grid):\n",
    "            best_value = -np.inf\n",
    "            best_c = 0\n",
    "\n",
    "            # Evaluate every candidate consumption value\n",
    "            for c_frac in c_candidates:\n",
    "                # consumption in dollars\n",
    "                cons = c_frac * W_now\n",
    "                # next period wealth\n",
    "                W_next = (W_now - cons) * (1 + r_ra)\n",
    "\n",
    "                # clamp W_next to grid range\n",
    "                if W_next < W_grid[0]:\n",
    "                    W_next_index = 0\n",
    "                elif W_next > W_grid[-1]:\n",
    "                    W_next_index = n_grid - 1\n",
    "                else:\n",
    "                    # approximate nearest index\n",
    "                    W_next_index = np.searchsorted(W_grid, W_next)\n",
    "                    if W_next_index >= n_grid:\n",
    "                        W_next_index = n_grid - 1\n",
    "\n",
    "                # immediate utility\n",
    "                immediate_utility = crra_utility(cons, gamma=gamma)\n",
    "                # discount that immediate utility\n",
    "                discounted_utility = immediate_utility / df\n",
    "\n",
    "                # future value\n",
    "                future_value = V[t + 1, W_next_index]\n",
    "\n",
    "                total_value = discounted_utility + future_value\n",
    "\n",
    "                if total_value > best_value:\n",
    "                    best_value = total_value\n",
    "                    best_c = c_frac\n",
    "\n",
    "            # store the best\n",
    "            V[t, i] = best_value\n",
    "            C[t, i] = best_c\n",
    "            \n",
    "    # 7. Grab the optimal consumption fraction at t=1 for W0\n",
    "    i_closest = np.argmin(np.abs(W_grid - W0))\n",
    "    optimal_c_init = C[1, i_closest]\n",
    "\n",
    "    return C, V, W_grid, optimal_c_init"
   ]
  },
  {
   "cell_type": "code",
   "execution_count": 4,
   "metadata": {},
   "outputs": [
    {
     "data": {
      "application/vnd.jupyter.widget-view+json": {
       "model_id": "148d2d6cbdca43238d94f0d952ffb903",
       "version_major": 2,
       "version_minor": 0
      },
      "text/plain": [
       "  0%|          | 0/20 [00:00<?, ?it/s]"
      ]
     },
     "metadata": {},
     "output_type": "display_data"
    },
    {
     "name": "stdout",
     "output_type": "stream",
     "text": [
      "Optimal c at t=1 for W0=$1,000,000.00: 0.0640\n"
     ]
    }
   ],
   "source": [
    "C, V, W_grid, optimal_c_init = solve_consumption(\n",
    "    W0=initial_wealth,\n",
    "    r_ra=risk_adjusted_returns_per_year,\n",
    "    r_tp=future_utility_discount_rate_per_year,\n",
    "    gamma=GAMMA,\n",
    "    T=time_horizon,\n",
    "    n_grid=2_000,  # sets the maximum precision of wealth to search through\n",
    "    c_grid_size=1001, # fractions of wealth to search through\n",
    ")\n",
    "print(f\"Optimal c at t=1 for W0=${initial_wealth:,.2f}: {optimal_c_init:.4f}\")"
   ]
  },
  {
   "cell_type": "code",
   "execution_count": 5,
   "metadata": {},
   "outputs": [],
   "source": [
    "# Simulate forward\n",
    "W_sim = [initial_wealth]\n",
    "C_sim = []\n",
    "cons_sim = []\n",
    "for t in range(1, time_horizon + 1):\n",
    "    i_closest = np.argmin(np.abs(W_grid - W_sim[-1]))\n",
    "    c_star = C[t, i_closest]\n",
    "    C_sim.append(c_star)    \n",
    "    cons = c_star * W_sim[-1]\n",
    "    cons_sim.append(cons)\n",
    "    \n",
    "    W_next = (W_sim[-1] - cons) * (1 + risk_adjusted_returns_per_year)\n",
    "    W_sim.append(W_next)"
   ]
  },
  {
   "cell_type": "code",
   "execution_count": 6,
   "metadata": {},
   "outputs": [
    {
     "data": {
      "text/html": [
       "<div><style>\n",
       ".dataframe > thead > tr,\n",
       ".dataframe > tbody > tr {\n",
       "  text-align: right;\n",
       "  white-space: pre-wrap;\n",
       "}\n",
       "</style>\n",
       "<small>shape: (21, 4)</small><table border=\"1\" class=\"dataframe\"><thead><tr><th>age</th><th>optimal_fractional_consumption</th><th>wealth</th><th>optimal_absolute_consumption</th></tr><tr><td>i64</td><td>f64</td><td>f64</td><td>f64</td></tr></thead><tbody><tr><td>65</td><td>null</td><td>1e6</td><td>null</td></tr><tr><td>66</td><td>0.064</td><td>964080.0</td><td>64000.0</td></tr><tr><td>67</td><td>0.067</td><td>926471.2392</td><td>64593.36</td></tr><tr><td>68</td><td>0.065</td><td>892238.126912</td><td>60220.630548</td></tr><tr><td>69</td><td>0.07</td><td>854674.901769</td><td>62456.668884</td></tr><tr><td>70</td><td>0.072</td><td>816932.458106</td><td>61536.592927</td></tr><tr><td>71</td><td>0.074</td><td>779173.839893</td><td>60453.0019</td></tr><tr><td>72</td><td>0.083</td><td>735937.483517</td><td>64671.428711</td></tr><tr><td>73</td><td>0.091</td><td>689036.187693</td><td>66970.311</td></tr><tr><td>74</td><td>0.095</td><td>642285.082358</td><td>65458.437831</td></tr><tr><td>75</td><td>0.1</td><td>595398.271346</td><td>64228.508236</td></tr><tr><td>76</td><td>0.114</td><td>543348.554465</td><td>67875.402933</td></tr><tr><td>77</td><td>0.129</td><td>487454.288667</td><td>70091.963526</td></tr><tr><td>78</td><td>0.137</td><td>433293.242653</td><td>66781.237547</td></tr><tr><td>79</td><td>0.154</td><td>377563.065783</td><td>66727.159369</td></tr><tr><td>80</td><td>0.173</td><td>321611.995065</td><td>65318.41038</td></tr><tr><td>81</td><td>0.209</td><td>262026.940739</td><td>67216.906968</td></tr><tr><td>82</td><td>0.263</td><td>198907.270984</td><td>68913.085414</td></tr><tr><td>83</td><td>0.338</td><td>135626.911793</td><td>67230.657593</td></tr><tr><td>84</td><td>0.508</td><td>68730.29382</td><td>68898.471191</td></tr><tr><td>85</td><td>1.0</td><td>0.0</td><td>68730.29382</td></tr></tbody></table></div>"
      ],
      "text/plain": [
       "shape: (21, 4)\n",
       "┌─────┬────────────────────────────────┬───────────────┬──────────────────────────────┐\n",
       "│ age ┆ optimal_fractional_consumption ┆ wealth        ┆ optimal_absolute_consumption │\n",
       "│ --- ┆ ---                            ┆ ---           ┆ ---                          │\n",
       "│ i64 ┆ f64                            ┆ f64           ┆ f64                          │\n",
       "╞═════╪════════════════════════════════╪═══════════════╪══════════════════════════════╡\n",
       "│ 65  ┆ null                           ┆ 1e6           ┆ null                         │\n",
       "│ 66  ┆ 0.064                          ┆ 964080.0      ┆ 64000.0                      │\n",
       "│ 67  ┆ 0.067                          ┆ 926471.2392   ┆ 64593.36                     │\n",
       "│ 68  ┆ 0.065                          ┆ 892238.126912 ┆ 60220.630548                 │\n",
       "│ 69  ┆ 0.07                           ┆ 854674.901769 ┆ 62456.668884                 │\n",
       "│ 70  ┆ 0.072                          ┆ 816932.458106 ┆ 61536.592927                 │\n",
       "│ 71  ┆ 0.074                          ┆ 779173.839893 ┆ 60453.0019                   │\n",
       "│ 72  ┆ 0.083                          ┆ 735937.483517 ┆ 64671.428711                 │\n",
       "│ 73  ┆ 0.091                          ┆ 689036.187693 ┆ 66970.311                    │\n",
       "│ 74  ┆ 0.095                          ┆ 642285.082358 ┆ 65458.437831                 │\n",
       "│ 75  ┆ 0.1                            ┆ 595398.271346 ┆ 64228.508236                 │\n",
       "│ 76  ┆ 0.114                          ┆ 543348.554465 ┆ 67875.402933                 │\n",
       "│ 77  ┆ 0.129                          ┆ 487454.288667 ┆ 70091.963526                 │\n",
       "│ 78  ┆ 0.137                          ┆ 433293.242653 ┆ 66781.237547                 │\n",
       "│ 79  ┆ 0.154                          ┆ 377563.065783 ┆ 66727.159369                 │\n",
       "│ 80  ┆ 0.173                          ┆ 321611.995065 ┆ 65318.41038                  │\n",
       "│ 81  ┆ 0.209                          ┆ 262026.940739 ┆ 67216.906968                 │\n",
       "│ 82  ┆ 0.263                          ┆ 198907.270984 ┆ 68913.085414                 │\n",
       "│ 83  ┆ 0.338                          ┆ 135626.911793 ┆ 67230.657593                 │\n",
       "│ 84  ┆ 0.508                          ┆ 68730.29382   ┆ 68898.471191                 │\n",
       "│ 85  ┆ 1.0                            ┆ 0.0           ┆ 68730.29382                  │\n",
       "└─────┴────────────────────────────────┴───────────────┴──────────────────────────────┘"
      ]
     },
     "metadata": {},
     "output_type": "display_data"
    }
   ],
   "source": [
    "df = pl.DataFrame(\n",
    "    {\"age\": [65 + y for y in range(time_horizon+1)],\n",
    "     \"optimal_fractional_consumption\": [None] + C_sim,\n",
    "     \"wealth\": W_sim,\n",
    "     \"optimal_absolute_consumption\": [None] + cons_sim\n",
    "     }\n",
    ")\n",
    "\n",
    "with pl.Config(tbl_rows=50):\n",
    "    display(df)"
   ]
  }
 ],
 "metadata": {
  "kernelspec": {
   "display_name": ".venv",
   "language": "python",
   "name": "python3"
  },
  "language_info": {
   "codemirror_mode": {
    "name": "ipython",
    "version": 3
   },
   "file_extension": ".py",
   "mimetype": "text/x-python",
   "name": "python",
   "nbconvert_exporter": "python",
   "pygments_lexer": "ipython3",
   "version": "3.10.16"
  }
 },
 "nbformat": 4,
 "nbformat_minor": 2
}
