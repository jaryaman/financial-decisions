{
 "cells": [
  {
   "cell_type": "markdown",
   "metadata": {},
   "source": [
    "# Riskless lifetime spending\n",
    "\n",
    "Here we figure out how to optimally spend a pot of money over a known time horizon, given access to a risk-free investment giving return $r_{ra}$ and a personal rate of time preference $r_{tp}$.\n",
    "\n",
    "An optimal investment policy has these properties:\n",
    "\n",
    "1. Spending more is better than spending less\n",
    "1. There are decreasing marginal benefits to spending more\n",
    "1. Spending should be as smooth as possible over time\n",
    "1. Spending should react to changes in the value and quality of our investments, after tax and inflation-adjusted\n",
    "1. Spending and investing should depend on our expected, but uncertain, personal longevity."
   ]
  },
  {
   "cell_type": "code",
   "execution_count": 8,
   "metadata": {},
   "outputs": [],
   "source": [
    "import numpy as np \n",
    "import polars as pl \n",
    "from polars import col \n",
    "from tqdm.autonotebook import tqdm\n",
    "from findec import crra_utility"
   ]
  },
  {
   "cell_type": "markdown",
   "metadata": {},
   "source": [
    "Imagine you are 65 years old, and you've just retired with $1M. Assume you know you're going to live for exactly 20 years. How should we spend our money such that we maximize our expected lifetime utility, over our remaining 20 years?"
   ]
  },
  {
   "cell_type": "markdown",
   "metadata": {},
   "source": [
    "The solution is to spend a fraction $c_t$ of wealth $W_t$ which maximizes the sum of all future year's discounted utility."
   ]
  },
  {
   "cell_type": "markdown",
   "metadata": {},
   "source": [
    "I.e. choose a $c_t$ at every year $t$ such that we maximize\n",
    "\n",
    "$$\\sum_{t=1}^T \\frac{U(c_t) W_t}{(1+r_{tp})^t}$$\n",
    "\n",
    "where $W_t = W_{t-1}(1-c_{t-1})(1+r_{ra})$"
   ]
  },
  {
   "cell_type": "code",
   "execution_count": 2,
   "metadata": {},
   "outputs": [
    {
     "data": {
      "text/plain": [
       "array([ 1.,  2.,  3.,  4.,  5.,  6.,  7.,  8.,  9., 10., 11., 12., 13.,\n",
       "       14., 15., 16., 17., 18., 19., 20.])"
      ]
     },
     "execution_count": 2,
     "metadata": {},
     "output_type": "execute_result"
    }
   ],
   "source": [
    "years = np.linspace(1, 20, 20)\n",
    "years"
   ]
  },
  {
   "cell_type": "code",
   "execution_count": 3,
   "metadata": {},
   "outputs": [],
   "source": [
    "initial_wealth = 1e6\n",
    "GAMMA = 2.0\n",
    "risk_adjusted_returns_per_year = 3e-2\n",
    "future_utility_discount_rate_per_year = 1e-2\n",
    "time_horizon = 20"
   ]
  },
  {
   "cell_type": "code",
   "execution_count": 12,
   "metadata": {},
   "outputs": [],
   "source": [
    "def solve_consumption(\n",
    "    *,\n",
    "    W0: float,\n",
    "    r_ra: float,\n",
    "    r_tp: float,\n",
    "    gamma: float,\n",
    "    T: int,\n",
    "    n_grid: int,\n",
    "    c_grid_size: int,\n",
    "):\n",
    "    # 1. Build wealth grid\n",
    "    W_max = W0 * (1 + r_ra) ** T * 2.0\n",
    "    W_grid = np.linspace(1e-3, W_max, n_grid)\n",
    "\n",
    "    # 2. Arrays for value and policy\n",
    "    V = np.zeros((T + 2, n_grid))\n",
    "    C = np.zeros((T + 2, n_grid))\n",
    "\n",
    "    # 3. Terminal condition: V[T+1] = 0\n",
    "    # Already zero by default. No bequest.\n",
    "\n",
    "    # 4. Precompute discount factors\n",
    "    discount_factors = [(1 + r_tp) ** t for t in range(T + 2)]\n",
    "\n",
    "    # 5. Discretize c in [0, 1] but skip exact zero\n",
    "    c_candidates = np.linspace(0, 1, c_grid_size)\n",
    "\n",
    "    # 6. Backwards induction\n",
    "    for t in tqdm(reversed(range(1, T + 1)), total=T):\n",
    "        df = discount_factors[t]\n",
    "        for i, W_now in enumerate(W_grid):\n",
    "            best_value = -np.inf\n",
    "            best_c = 0\n",
    "            for c_frac in c_candidates:\n",
    "                # consumption in dollars\n",
    "                cons = c_frac * W_now\n",
    "                # next period wealth\n",
    "                W_next = (W_now - cons) * (1 + r_ra)\n",
    "\n",
    "                # clamp W_next to grid range\n",
    "                if W_next < W_grid[0]:\n",
    "                    W_next_index = 0\n",
    "                elif W_next > W_grid[-1]:\n",
    "                    W_next_index = n_grid - 1\n",
    "                else:\n",
    "                    # approximate nearest index\n",
    "                    W_next_index = np.searchsorted(W_grid, W_next)\n",
    "                    if W_next_index >= n_grid:\n",
    "                        W_next_index = n_grid - 1\n",
    "\n",
    "                # immediate utility\n",
    "                immediate_utility = crra_utility(cons, gamma=gamma)\n",
    "                # discount that immediate utility\n",
    "                discounted_utility = immediate_utility / df\n",
    "\n",
    "                # future value\n",
    "                future_value = V[t + 1, W_next_index]\n",
    "\n",
    "                total_value = discounted_utility + future_value\n",
    "\n",
    "                if total_value > best_value:\n",
    "                    best_value = total_value\n",
    "                    best_c = c_frac\n",
    "\n",
    "                # store the best\n",
    "                V[t, i] = best_value\n",
    "                C[t, i] = best_c\n",
    "    # 7. Grab the optimal consumption fraction at t=1 for W0\n",
    "    i_closest = np.argmin(np.abs(W_grid - W0))\n",
    "    optimal_c_init = C[1, i_closest]\n",
    "\n",
    "    return C, V, W_grid, optimal_c_init"
   ]
  },
  {
   "cell_type": "code",
   "execution_count": 13,
   "metadata": {},
   "outputs": [
    {
     "name": "stderr",
     "output_type": "stream",
     "text": [
      "100%|██████████| 20/20 [02:06<00:00,  6.35s/it]"
     ]
    },
    {
     "name": "stdout",
     "output_type": "stream",
     "text": [
      "Optimal c at t=1 for W0=$1,000,000.00: 0.0640\n",
      "\n",
      "Year | c*    | Wealth\n",
      "   1 | 0.0640 | 1000000.00\n",
      "   2 | 0.0670 | 964080.00\n",
      "   3 | 0.0650 | 926471.24\n",
      "   4 | 0.0700 | 892238.13\n",
      "   5 | 0.0720 | 854674.90\n",
      "   6 | 0.0740 | 816932.46\n",
      "   7 | 0.0830 | 779173.84\n",
      "   8 | 0.0910 | 735937.48\n",
      "   9 | 0.0950 | 689036.19\n",
      "  10 | 0.1000 | 642285.08\n",
      "  11 | 0.1140 | 595398.27\n",
      "  12 | 0.1290 | 543348.55\n",
      "  13 | 0.1370 | 487454.29\n",
      "  14 | 0.1540 | 433293.24\n",
      "  15 | 0.1730 | 377563.07\n",
      "  16 | 0.2090 | 321612.00\n",
      "  17 | 0.2630 | 262026.94\n",
      "  18 | 0.3380 | 198907.27\n",
      "  19 | 0.5080 | 135626.91\n",
      "  20 | 1.0000 | 68730.29\n",
      "Final wealth at year 21: 0.00\n"
     ]
    },
    {
     "name": "stderr",
     "output_type": "stream",
     "text": [
      "\n"
     ]
    }
   ],
   "source": [
    "C, V, W_grid, optimal_c_init = solve_consumption(\n",
    "    W0=initial_wealth,\n",
    "    r_ra=risk_adjusted_returns_per_year,\n",
    "    r_tp=future_utility_discount_rate_per_year,\n",
    "    gamma=GAMMA,\n",
    "    T=time_horizon,\n",
    "    n_grid=2000,\n",
    "    c_grid_size=1001,\n",
    ")\n",
    "print(f\"Optimal c at t=1 for W0=${initial_wealth:,.2f}: {optimal_c_init:.4f}\")\n",
    "\n",
    "\n",
    "# Simulate forward\n",
    "W_sim = [initial_wealth]\n",
    "C_sim = []\n",
    "for t in range(1, time_horizon + 1):\n",
    "    i_closest = np.argmin(np.abs(W_grid - W_sim[-1]))\n",
    "    c_star = C[t, i_closest]\n",
    "    C_sim.append(c_star)\n",
    "    cons = c_star * W_sim[-1]\n",
    "    W_next = (W_sim[-1] - cons) * (1 + risk_adjusted_returns_per_year)\n",
    "    W_sim.append(W_next)\n",
    "\n",
    "print(\"\\nYear | c*    | Wealth\")\n",
    "for year in range(time_horizon):\n",
    "    print(f\"{year+1:4d} | {C_sim[year]:.4f} | {W_sim[year]:.2f}\")\n",
    "print(f\"Final wealth at year {time_horizon+1}: {W_sim[-1]:.2f}\")"
   ]
  },
  {
   "cell_type": "code",
   "execution_count": null,
   "metadata": {},
   "outputs": [],
   "source": []
  },
  {
   "cell_type": "code",
   "execution_count": null,
   "metadata": {},
   "outputs": [],
   "source": []
  },
  {
   "cell_type": "markdown",
   "metadata": {},
   "source": [
    "Use dynamic programming to solve the following problem, with python.\n",
    "\n",
    "I am 65 years old, and I have \\$1M dollars. I can invest in a risk-free asset with returns of 3% after taz and above inflation. I discount my future utility of consumption by 2% per year. I have a constant relative risk aversion utility, with risk aversion parameter $\\gamma = 2$. \n",
    "\n",
    "I spend $c_t$ fraction of my wealth every year. Choose a $c_t$ at every year $t$ such that we maximize\n",
    "\n",
    "$$\\sum_{t=1}^T \\frac{U(c_t W_t)}{(1+r_{tp})^t}$$\n",
    "\n",
    "where $W_t = W_{t-1}(1-c_{t-1})(1+r_{ra})$."
   ]
  },
  {
   "cell_type": "code",
   "execution_count": null,
   "metadata": {},
   "outputs": [],
   "source": []
  }
 ],
 "metadata": {
  "kernelspec": {
   "display_name": ".venv",
   "language": "python",
   "name": "python3"
  },
  "language_info": {
   "codemirror_mode": {
    "name": "ipython",
    "version": 3
   },
   "file_extension": ".py",
   "mimetype": "text/x-python",
   "name": "python",
   "nbconvert_exporter": "python",
   "pygments_lexer": "ipython3",
   "version": "3.10.16"
  }
 },
 "nbformat": 4,
 "nbformat_minor": 2
}
