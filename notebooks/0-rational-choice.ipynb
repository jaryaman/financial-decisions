{
 "cells": [
  {
   "cell_type": "markdown",
   "metadata": {},
   "source": [
    "# Rational choice"
   ]
  },
  {
   "cell_type": "markdown",
   "metadata": {},
   "source": [
    "In \"The Theory of Games and Economic Behaviour\" by von Neumann and Morgenstern, it was proven that an actor would prefer actions that maximize expected utility, given that their utility function obeys the following set of axioms (defined non-technically):"
   ]
  },
  {
   "cell_type": "markdown",
   "metadata": {},
   "source": [
    "## Completeness \n",
    "\n",
    "An individual has a well-defined set of preferences. If A and B are two outcomes, then the individual can always specify exactly one of three possibilities: A is preferred to B, B is preferred to A, or A and B are equally attractive"
   ]
  },
  {
   "cell_type": "markdown",
   "metadata": {},
   "source": [
    "## Transitivity\n",
    "\n",
    "Preferences are internally consistent across any three options. If A is preferred to B, and B is preferred to C, then A is preferred to C."
   ]
  },
  {
   "cell_type": "markdown",
   "metadata": {},
   "source": [
    "## Continuity\n",
    "\n",
    "If A is preferred to B, then outcomes almost the same as A must also be preferred to B."
   ]
  },
  {
   "cell_type": "markdown",
   "metadata": {},
   "source": [
    "## Independence\n",
    "\n",
    "A preference holds independently of the existence of an unrelated third outcome C. If A is preferred to B, then a third, \"irrelevant\" option C does not cause the individual to switch to preferring B to A."
   ]
  }
 ],
 "metadata": {
  "language_info": {
   "name": "python"
  }
 },
 "nbformat": 4,
 "nbformat_minor": 2
}
