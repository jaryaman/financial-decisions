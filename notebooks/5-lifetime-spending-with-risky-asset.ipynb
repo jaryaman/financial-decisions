{
 "cells": [
  {
   "cell_type": "markdown",
   "metadata": {},
   "source": [
    "# Lifetime spending with a risky asset"
   ]
  },
  {
   "cell_type": "markdown",
   "metadata": {},
   "source": [
    "Trying to generalise the previous notebook, but with a risky asset.\n",
    "\n",
    "We want to choose a consumption fraction $c_t$ and an investment fraction $k_t$ such that we maximize\n",
    "\n",
    "$$\\sum_{t=1}^T \\frac{E(U(c_t W_t))}{(1+r_{tp})^t}$$\n",
    "\n",
    "where $W_t = W_{t-1}(1-c_{t-1})(1+R_p)$ and $R_p = k_t R_r + (1-k_t)r_f$\n",
    "\n",
    "where $r_f$ is the risk-free rate (after tax and inflation). $R_r$ is the return on a risky asset with $E(R_r) = \\mu$ and $V(R_r) = \\sigma^2$."
   ]
  },
  {
   "cell_type": "markdown",
   "metadata": {},
   "source": [
    "From previous work\n",
    "\n",
    "$$E(U(W)) \\approx U(E(W)) + \\frac{U''(E(W))}{2} V(W)$$\n",
    "\n",
    "$$U''(W) = -\\gamma W^{-\\gamma-1}$$"
   ]
  },
  {
   "cell_type": "markdown",
   "metadata": {},
   "source": [
    "Therefore\n",
    "\n",
    "$$E(U(c_t W_t)) \\approx U(E(c_t W_t)) + \\frac{U''(E(c_t W_t))}{2} V(c_t W_t)$$\n"
   ]
  },
  {
   "cell_type": "markdown",
   "metadata": {},
   "source": [
    "## Compute mean and variance of $W_t$\n",
    "\n",
    "$$E(W_t) = W_{t-1}(1-c_t)(1+(1-k_t)r_f) + W_{t-1}(1-c_t)k_t \\mu$$\n",
    "\n",
    "$$V(W_t) = W_{t-1}^2(1-c_t)^2k_t^2 \\sigma^2$$"
   ]
  },
  {
   "cell_type": "markdown",
   "metadata": {},
   "source": [
    "So then\n",
    "\n",
    "$$E(U(c_t W_t)) \\approx U(E(c_t W_t)) + \\frac{U''(E(c_t W_t))}{2} V(c_t W_t)$$\n",
    "\n",
    "$$E(c_t W_t) = c_tW_{t-1}(1-c_t)[1+(1-k_t)r_f + k_t \\mu]$$\n",
    "\n",
    "$$V(c_t W_t) = c_t^2 W_{t-1}^2(1-c_t)^2k_t^2 \\sigma^2$$"
   ]
  },
  {
   "cell_type": "code",
   "execution_count": 1,
   "metadata": {},
   "outputs": [
    {
     "name": "stderr",
     "output_type": "stream",
     "text": [
      "/tmp/ipykernel_10164/1453797730.py:4: TqdmExperimentalWarning: Using `tqdm.autonotebook.tqdm` in notebook mode. Use `tqdm.tqdm` instead to force console mode (e.g. in jupyter console)\n",
      "  from tqdm.autonotebook import tqdm\n"
     ]
    }
   ],
   "source": [
    "import numpy as np \n",
    "import polars as pl \n",
    "from polars import col \n",
    "from tqdm.autonotebook import tqdm\n",
    "from findec import crra_utility\n",
    "\n",
    "from IPython.display import display"
   ]
  },
  {
   "cell_type": "code",
   "execution_count": 2,
   "metadata": {},
   "outputs": [],
   "source": [
    "def crra_utility_second_derivative(w: np.ndarray | float, *, gamma: float):\n",
    "    return -gamma * w ** -(gamma + 1)"
   ]
  },
  {
   "cell_type": "code",
   "execution_count": 3,
   "metadata": {},
   "outputs": [],
   "source": [
    "initial_wealth = 1e6\n",
    "GAMMA = 2.0\n",
    "risk_adjusted_returns_per_year = 3e-2\n",
    "future_utility_discount_rate_per_year = 1e-2\n",
    "time_horizon = 20\n",
    "mean_return_risky_asset = 11e-2\n",
    "standard_deviation_risky_asset = 15e-2"
   ]
  },
  {
   "cell_type": "code",
   "execution_count": null,
   "metadata": {},
   "outputs": [],
   "source": [
    "def solve_consumption(\n",
    "    *,\n",
    "    W0: float,\n",
    "    r_f: float,\n",
    "    r_tp: float,\n",
    "    gamma: float,\n",
    "    mu: float,\n",
    "    sigma: float,\n",
    "    T: int,\n",
    "    n_grid: int,\n",
    "    c_grid_size: int,\n",
    "    k_grid_size: int,\n",
    "):\n",
    "    # 1. Build wealth grid\n",
    "    max_growth_rate = max(r_f, mu + 1.5 * sigma)\n",
    "    W_max = W0 * (1 + max_growth_rate) ** T * 2.0  # factor of 2 is for some margin\n",
    "    W_grid = np.linspace(1e-3, W_max, n_grid)\n",
    "\n",
    "    # 2. Arrays for value and policy \n",
    "\n",
    "    # V[t, i] holds the maximum discounted utiltiy achievable from time t onward if your current wealth is W_grid[i]\n",
    "    V = np.zeros((T+2, n_grid))\n",
    "\n",
    "    # P[t, i, j] holds the optimal (consumption fraction, risky asset fraction) that achieves that maximum\n",
    "    P = np.zeros((T+2, n_grid, n_grid))\n",
    "\n",
    "    # 3. Terminal condition: V[T+1] = 0\n",
    "    # Already zero by default. No bequest\n",
    "\n",
    "    # 4. Precompute discount factors\n",
    "    discount_factors = [(1 + r_tp) ** t for t in range(T + 2)]\n",
    "\n",
    "    # 5. Discretize consumption and risky asset fraction \n",
    "    c_candidates = np.linspace(0, 1, c_grid_size)\n",
    "    k_candidates = np.linspace(0, 1, k_grid_size)\n",
    "\n",
    "    # 6. Backwards induction\n",
    "    for t in tqdm(reversed(range(1, T+1)), total=T):\n",
    "        df = discount_factors[t]\n",
    "        for i, W_now in W_grid:\n",
    "            best_value = -np.inf \n",
    "            best_c = 0\n",
    "\n",
    "            # Evaluate every candidate consumption value and risky asset allocation\n",
    "            for c_frac in c_candidates:\n",
    "                for k_frac in k_candidates:\n",
    "                    "
   ]
  }
 ],
 "metadata": {
  "kernelspec": {
   "display_name": ".venv",
   "language": "python",
   "name": "python3"
  },
  "language_info": {
   "codemirror_mode": {
    "name": "ipython",
    "version": 3
   },
   "file_extension": ".py",
   "mimetype": "text/x-python",
   "name": "python",
   "nbconvert_exporter": "python",
   "pygments_lexer": "ipython3",
   "version": "3.10.16"
  }
 },
 "nbformat": 4,
 "nbformat_minor": 2
}
