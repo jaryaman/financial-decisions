{
 "cells": [
  {
   "cell_type": "markdown",
   "metadata": {},
   "source": [
    "## Approximating risk-adjusted excess returns\n",
    "\n",
    "Haghani & White state without proof that\n",
    "\n",
    "$$\\text{Risk-adjusted excess returns} = k\\mu -\\frac{\\gamma(k\\sigma^2)}{2}$$\n",
    "\n",
    "where\n",
    "\n",
    "- $\\mu = $ excess expected return of the risky asset\n",
    "- $\\sigma = $ risk (standard deviation) of the risky asset\n",
    "- $k = $ fraction of wealth allocated to the asset\n",
    "- $\\gamma = $ risk aversion\n",
    "\n",
    "It seems clear that there are many approximations lurking beneath this, I will try and get as far as I can to prove it."
   ]
  },
  {
   "cell_type": "code",
   "execution_count": null,
   "metadata": {
    "vscode": {
     "languageId": "plaintext"
    }
   },
   "outputs": [],
   "source": []
  },
  {
   "cell_type": "code",
   "execution_count": null,
   "metadata": {
    "vscode": {
     "languageId": "plaintext"
    }
   },
   "outputs": [],
   "source": []
  },
  {
   "cell_type": "code",
   "execution_count": null,
   "metadata": {
    "vscode": {
     "languageId": "plaintext"
    }
   },
   "outputs": [],
   "source": []
  }
 ],
 "metadata": {
  "language_info": {
   "name": "python"
  }
 },
 "nbformat": 4,
 "nbformat_minor": 2
}
