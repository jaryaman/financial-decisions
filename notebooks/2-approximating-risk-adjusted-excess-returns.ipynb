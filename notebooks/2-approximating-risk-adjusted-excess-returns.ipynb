{
 "cells": [
  {
   "cell_type": "markdown",
   "metadata": {},
   "source": [
    "## Approximating risk-adjusted excess returns"
   ]
  },
  {
   "cell_type": "markdown",
   "metadata": {},
   "source": [
    "## Intro"
   ]
  },
  {
   "cell_type": "markdown",
   "metadata": {},
   "source": [
    "\n",
    "\n",
    "Haghani & White state that\n",
    "\n",
    "$$\\text{Risk-adjusted excess returns} = k\\mu -\\frac{\\gamma(k\\sigma)^2}{2}$$\n",
    "\n",
    "where\n",
    "\n",
    "- $\\mu = $ excess expected return of the risky asset\n",
    "- $\\sigma = $ risk (standard deviation) of the risky asset\n",
    "- $k = $ fraction of wealth allocated to the asset\n",
    "- $\\gamma = $ risk aversion\n",
    "\n",
    "It seems clear that there are many approximations lurking beneath this, I will try and get as far as I can to prove it."
   ]
  },
  {
   "cell_type": "markdown",
   "metadata": {},
   "source": [
    "We'll take a slightly different form of utility, though it'll have the same properties\n",
    "\n",
    "$$U(W) = \\frac{W^{1-\\gamma}}{1-\\gamma}$$\n",
    "\n",
    "(previously used $U(W) = \\frac{1-W^{1-\\gamma}}{\\gamma - 1}$)"
   ]
  },
  {
   "cell_type": "markdown",
   "metadata": {},
   "source": [
    "## Defining portfolio return"
   ]
  },
  {
   "cell_type": "markdown",
   "metadata": {},
   "source": [
    "Now let \n",
    "\n",
    "$$W = W_0 (1+R_p)$$\n",
    "\n",
    "where\n",
    "\n",
    "- $W = $ your wealth after investing\n",
    "- $W_0 = $ initial wealth\n",
    "- $R_p = $ the return of the portfolio.\n",
    "\n",
    "In general\n",
    "\n",
    "$$R_p = k R_r + (1-k) R_f$$\n",
    "\n",
    "where\n",
    "\n",
    "$R_f = $ risk-free return, but let's assume that we have $R_f = 0$ -- we have to invest in the risky asset. "
   ]
  },
  {
   "cell_type": "markdown",
   "metadata": {},
   "source": [
    "## Approximations we'll use\n",
    "\n",
    "### Taylor expansion of a function of a random variable\n",
    "\n",
    "A Taylor expansion of a function $f$ of a random variable $X$ can be [written as](https://en.wikipedia.org/wiki/Taylor_expansions_for_the_moments_of_functions_of_random_variables#First_moment)\n",
    "\n",
    "$$E[f(X)] \\approx f(E(X)) + \\frac{f''(E[X])}{2} V(X)$$\n",
    "\n",
    "where $E(X)$ is the mean and $V(X)$ is the variance."
   ]
  },
  {
   "cell_type": "markdown",
   "metadata": {},
   "source": [
    "### Binomial approximation\n",
    "\n",
    "When $|x| < 1$ and $|\\alpha x| \\ll 1$ [then](https://en.wikipedia.org/wiki/Binomial_approximation)\n",
    "\n",
    "$$(1+x)^\\alpha \\approx 1 + \\alpha x$$"
   ]
  },
  {
   "cell_type": "markdown",
   "metadata": {},
   "source": [
    "## Expected utility\n",
    "\n",
    "We begin by trying to approximate the expected utility under *small* expected returns, i.e. $E(R_p) \\ll 1$."
   ]
  },
  {
   "cell_type": "markdown",
   "metadata": {},
   "source": [
    "Using Taylor\n",
    "\n",
    "$$E(U(W)) \\approx U(E(W)) + \\frac{U''(E(W))}{2} V(W)$$"
   ]
  },
  {
   "cell_type": "markdown",
   "metadata": {},
   "source": [
    "### Derivatives\n",
    "\n",
    "Let's note down various derivaives of $U(W)$\n",
    "\n",
    "$$U(W) = \\frac{W^{1-\\gamma}}{1-\\gamma}$$\n",
    "$$U'(W) = W^{-\\gamma}$$\n",
    "$$U''(W) = -\\gamma W^{-\\gamma-1}$$\n",
    "\n",
    "We'll also need\n",
    "\n",
    "$$E(W) = W_0 (1 + E(R_p))$$\n",
    "$$V(W) = W_0^2 V(R_p)$$"
   ]
  },
  {
   "cell_type": "markdown",
   "metadata": {},
   "source": [
    "### Expanding out $U''(E(W))$\n",
    "\n",
    "$$U''(E(W)) = -\\gamma [W_0 (1 + E(R_p))]^{-\\gamma-1}$$\n",
    "\n",
    "Now expand out\n",
    "\n",
    "$$= -\\gamma W_0^{-\\gamma-1}  (1 + E(R_p))^{-\\gamma-1}$$\n",
    "\n",
    "Use binomial approximation because $E(R_p)$ is small\n",
    "\n",
    "$$= -\\gamma W_0^{-\\gamma-1}  (1 - (1+\\gamma) E(R_p))$$\n",
    "\n",
    "Expand out\n",
    "\n",
    "$$U''(E(W))= -\\gamma W_0^{-\\gamma-1}  +  W_0^{-\\gamma-1}\\gamma(1+\\gamma) E(R_p)$$"
   ]
  },
  {
   "cell_type": "markdown",
   "metadata": {},
   "source": [
    "Now using the formula for $V(W)$\n",
    "\n",
    "$$V(W) U''(E(W)) = -\\gamma W_0^{-\\gamma-1} \\cdot W_0^2 V(R_p) [1  - (1+\\gamma) E(R_p)]$$\n",
    "$$= -\\gamma W_0^{1-\\gamma} V(R_p) [1  - (1+\\gamma) E(R_p)]$$\n",
    "\n",
    "But we've been saying that $E(R_p)$ is small, so $(1+\\gamma)E(R_p)$ is also small, so\n",
    "\n",
    "$$V(W) U''(E(W)) = -\\gamma W_0^{1-\\gamma} V(R_p)$$"
   ]
  },
  {
   "cell_type": "markdown",
   "metadata": {},
   "source": [
    "### Expanding out $U(E(W))$\n",
    "\n",
    "$$U(E(W)) = \\frac{E(W)^{1-\\gamma}}{1-\\gamma}$$\n",
    "\n",
    "\n",
    "$$=\\frac{(W_0 (1 + E(R_p)))^{1-\\gamma}}{1-\\gamma}$$\n",
    "$$=\\frac{1}{1-\\gamma} W_0^{1-\\gamma} (1 + E(R_p))^{1-\\gamma}$$\n",
    "\n",
    "Use the binomial expansion again\n",
    "\n",
    "$$U(E(W)) \\approx \\frac{W_0^{1-\\gamma}}{1-\\gamma}  (1 + (1-\\gamma) E(R_p))$$\n",
    "\n",
    "which expands as\n",
    "\n",
    "$$U(E(W)) \\approx \\frac{W_0^{1-\\gamma}}{1-\\gamma}  + W_0^{1-\\gamma} E(R_p)$$"
   ]
  },
  {
   "cell_type": "markdown",
   "metadata": {},
   "source": [
    "### Putting things together\n",
    "\n",
    "$$E(U(W)) \\approx U(E(W)) + \\frac{U''(E(W))}{2} V(W)$$\n",
    "\n",
    "And\n",
    "$$U(E(W)) \\approx \\frac{W_0^{1-\\gamma}}{1-\\gamma}  + W_0^{1-\\gamma} E(R_p)$$\n",
    "$$V(W) U''(E(W)) = -\\gamma W_0^{1-\\gamma} V(R_p)$$\n",
    "\n",
    "So therefore\n",
    "\n",
    "$$E(U(W)) \\approx \\frac{W_0^{1-\\gamma}}{1-\\gamma}  + W_0^{1-\\gamma} E(R_p) - \\frac{\\gamma}{2}  W_0^{1-\\gamma} V(R_p)$$\n",
    "\n",
    "Factor out $W_0^{1-\\gamma}$\n",
    "\n",
    "$$E(U(W)) \\approx W_0^{1-\\gamma} \\left( \\frac{1}{1-\\gamma}  + E(R_p) - \\frac{\\gamma}{2} V(R_p) \\right)$$"
   ]
  },
  {
   "cell_type": "markdown",
   "metadata": {},
   "source": [
    "### Scaling doesn't matter\n",
    "\n",
    "We're going to optimize this, so multiplicative and additive constants don't affect optimal points. Therefore\n",
    "\n",
    "$$E(U(W)) \\propto E(R_p) - \\frac{\\gamma}{2} V(R_p)$$"
   ]
  },
  {
   "cell_type": "markdown",
   "metadata": {},
   "source": [
    "## Substituting portfolio returns\n",
    "\n",
    "$R_p = k R_r$. By definition, $E(R_r) = \\mu$ and $V(R_r) = \\sigma^2$.\n",
    "\n",
    "Therefore $E(R_p) = k \\mu$ and $V(R_p) = k^2 \\sigma^2$ so\n",
    "\n",
    "$$E(U(W)) \\propto k \\mu - \\frac{\\gamma}{2} (k \\sigma)^2$$"
   ]
  },
  {
   "cell_type": "markdown",
   "metadata": {},
   "source": [
    "## Optimal allocation (Merton share)\n",
    "\n",
    "We want to optimize\n",
    "\n",
    "$$E(U(W)) \\propto k \\mu - \\frac{\\gamma}{2} (k \\sigma)^2$$\n",
    "\n",
    "with respect to $k$. We have\n",
    "\n",
    "$$\\frac{\\partial E(U(W))}{\\partial k} = \\mu - \\gamma \\sigma^2 k$$\n",
    "\n",
    "and the optimal choice $k^*$ has\n",
    "\n",
    "$$\\frac{\\partial E(U(W))}{\\partial k}_{k=k^*} = 0$$\n",
    "\n",
    "So\n",
    "\n",
    "$$0 = \\mu - \\gamma \\sigma^2 k^*$$\n",
    "\n",
    "and \n",
    "\n",
    "$$k^* = \\frac{\\mu}{\\gamma \\sigma^2}$$\n",
    "\n",
    "which is called the **Merton share**."
   ]
  },
  {
   "cell_type": "markdown",
   "metadata": {},
   "source": [
    "## Risk-adjusted excess returns\n",
    "\n",
    "As said before, Risk-adjusted returns is defined as the certainty-equivalent return, $r_{CE}$, where\n",
    "\n",
    "$$W_{CE} = W_0 (1 + r_{CE})$$\n",
    "\n",
    "and has the property that \n",
    "\n",
    "$$U(W_{CE}) = E(U(W))$$"
   ]
  },
  {
   "cell_type": "markdown",
   "metadata": {},
   "source": [
    "We have\n",
    "\n",
    "$$U(r_{CE}) = \\frac{W_0^{1-\\gamma}(1+r_{CE})^{1-\\gamma}}{1-\\gamma}$$"
   ]
  },
  {
   "cell_type": "markdown",
   "metadata": {},
   "source": [
    "Equating with the exact formula we had for $E(U(W))$\n",
    "\n",
    "$$E(U(W)) \\approx W_0^{1-\\gamma} \\left( \\frac{1}{1-\\gamma}  + E(R_p) - \\frac{\\gamma}{2} V(R_p) \\right)$$\n",
    "\n",
    "then\n",
    "\n",
    "$$\\frac{W_0^{1-\\gamma}(1+r_{CE})^{1-\\gamma}}{1-\\gamma} \\approx W_0^{1-\\gamma} \\left( \\frac{1}{1-\\gamma}  + E(R_p) - \\frac{\\gamma}{2} V(R_p) \\right)$$"
   ]
  },
  {
   "cell_type": "markdown",
   "metadata": {},
   "source": [
    "Again assume small returns, so we can do a binomial expansion\n",
    "\n",
    "$$\\frac{1}{1-\\gamma} (1+(1-\\gamma)r_{CE}) \\approx \\left( \\frac{1}{1-\\gamma}  + E(R_p) - \\frac{\\gamma}{2} V(R_p) \\right)$$\n",
    "\n",
    "$$\\frac{1}{1-\\gamma} + r_{CE} \\approx \\left( \\frac{1}{1-\\gamma}  + E(R_p) - \\frac{\\gamma}{2} V(R_p) \\right)$$"
   ]
  },
  {
   "cell_type": "markdown",
   "metadata": {},
   "source": [
    "We have\n",
    "\n",
    "$$ r_{CE} \\approx  E(R_p) - \\frac{\\gamma}{2} V(R_p) $$\n",
    "\n",
    "Substituting for portfolio returns, we finally arrive at what we were aiming to prove\n",
    "\n",
    "$$ r_{CE} \\approx  k \\mu - \\frac{\\gamma}{2} (k \\sigma)^2 $$"
   ]
  },
  {
   "cell_type": "markdown",
   "metadata": {},
   "source": [
    "## Risk adjusted excess return at optimal bet size\n",
    "\n",
    "Evaluating $r_{CE}$ at $k^*$ yields\n",
    "\n",
    "$$r_{CE} = \\frac{k^*\\mu}{2}$$"
   ]
  },
  {
   "cell_type": "markdown",
   "metadata": {},
   "source": [
    "### A bird in the hand is worth two in the bush\n",
    "\n",
    "What this is saying is that, given an investment in a risky asset with a given expected return, one should be indifferent to a risk-free return of half the risky return, assuming optimal bet sizing (where optimal bet sizing will depend upon risk aversion and the level of risk of the investment)."
   ]
  }
 ],
 "metadata": {
  "language_info": {
   "name": "python"
  }
 },
 "nbformat": 4,
 "nbformat_minor": 2
}
